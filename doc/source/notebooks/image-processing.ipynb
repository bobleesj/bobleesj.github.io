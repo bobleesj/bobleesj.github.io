{
 "cells": [
  {
   "cell_type": "markdown",
   "id": "2d325135",
   "metadata": {},
   "source": [
    "# Image processing"
   ]
  },
  {
   "cell_type": "markdown",
   "id": "3fdaa5ce",
   "metadata": {},
   "source": [
    "$$\n",
    "g(x,y) = T(f(x,y))\n",
    "$$"
   ]
  },
  {
   "cell_type": "markdown",
   "id": "efec8999",
   "metadata": {},
   "source": [
    "## Convolution\n",
    "\n",
    "$$\n",
    "g(x) = f(x) * h(x) = \\int_{-\\infty}^{\\infty} f(\\tau)h(x - \\tau) d\\tau\n",
    "$$\n",
    "\n",
    "\n",
    "$h(x - \\tau)$ means you flip $h$ around the y-axis to get $h(-\\tau)$. Then shfiting it by $x$ to get $h(x - \\tau)$. For a fixed $x$, you are algining $h$ at position $x$ and see how much it overlaps with $f$. Sum the product of the total overall to get the value of $g(x). The result of convolution at point $x$."
   ]
  },
  {
   "cell_type": "markdown",
   "id": "6d12cd1c",
   "metadata": {},
   "source": []
  }
 ],
 "metadata": {
  "language_info": {
   "name": "python"
  }
 },
 "nbformat": 4,
 "nbformat_minor": 5
}
