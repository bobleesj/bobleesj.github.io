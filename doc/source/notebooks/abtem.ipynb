{
 "cells": [
  {
   "cell_type": "markdown",
   "id": "b507fe64",
   "metadata": {},
   "source": [
    "# abTEM\n",
    "\n",
    "the electrostatic potential contains bonding information. Recall V(r) depends on V_nuclei(r) + V_electrons(r) + V_XC(r)"
   ]
  }
 ],
 "metadata": {
  "language_info": {
   "name": "python"
  }
 },
 "nbformat": 4,
 "nbformat_minor": 5
}
